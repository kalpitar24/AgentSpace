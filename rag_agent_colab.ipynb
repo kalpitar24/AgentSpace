{
 "cells": [
  {
   "cell_type": "code",
   "source": [
    "!pip install -q langchain faiss-cpu google-cloud-aiplatform vertexai PyPDF2"
   ],
   "metadata": {},
   "execution_count": null,
   "outputs": []
  },
  {
   "cell_type": "code",
   "source": [
    "from google.colab import auth\nauth.authenticate_user()\n\nPROJECT_ID = \"your-project-id\"\nREGION = \"us-central1\"\n!gcloud config set project $PROJECT_ID"
   ],
   "metadata": {},
   "execution_count": null,
   "outputs": []
  },
  {
   "cell_type": "code",
   "source": [
    "from langchain.document_loaders import PyPDFLoader\nfrom langchain.text_splitter import CharacterTextSplitter\n\nloader = PyPDFLoader(\"your_docs/product_guide.pdf\")\ndocs = loader.load()\nsplitter = CharacterTextSplitter(chunk_size=500, chunk_overlap=50)\nchunks = splitter.split_documents(docs)"
   ],
   "metadata": {},
   "execution_count": null,
   "outputs": []
  },
  {
   "cell_type": "code",
   "source": [
    "from langchain.vectorstores import FAISS\nfrom langchain.embeddings import VertexAIEmbeddings\n\nembedding_model = VertexAIEmbeddings()\ndb = FAISS.from_documents(chunks, embedding_model)"
   ],
   "metadata": {},
   "execution_count": null,
   "outputs": []
  },
  {
   "cell_type": "code",
   "source": [
    "from langchain.chains import RetrievalQA\nfrom langchain.chat_models import ChatVertexAI\n\nllm = ChatVertexAI()\nqa = RetrievalQA.from_chain_type(llm=llm, retriever=db.as_retriever())"
   ],
   "metadata": {},
   "execution_count": null,
   "outputs": []
  },
  {
   "cell_type": "code",
   "source": [
    "question = \"What is the refund policy?\"\nresponse = qa.run(question)\nprint(\"Q:\", question)\nprint(\"A:\", response)"
   ],
   "metadata": {},
   "execution_count": null,
   "outputs": []
  },
  {
   "cell_type": "code",
   "source": [
    "import json\nfrom google.colab import files\n\nuploaded = files.upload()\nwith open(\"golden_set.json\") as f:\n    golden_data = json.load(f)"
   ],
   "metadata": {},
   "execution_count": null,
   "outputs": []
  },
  {
   "cell_type": "code",
   "source": [
    "for i, item in enumerate(golden_data):\n    q = item['question']\n    expected = item['answer']\n    actual = qa.run(q)\n    print(f\"\\n[{i+1}] Q: {q}\\nExpected: {expected}\\nGenerated: {actual}\")"
   ],
   "metadata": {},
   "execution_count": null,
   "outputs": []
  }
 ],
 "metadata": {},
 "nbformat": 4,
 "nbformat_minor": 2
}